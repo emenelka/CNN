{
 "cells": [
  {
   "cell_type": "code",
   "execution_count": 40,
   "id": "1d724554",
   "metadata": {},
   "outputs": [],
   "source": [
    "import os\n",
    "os.environ['TF_CPP_MIN_LOG_LEVEL'] = '2'\n",
    "\n",
    "import numpy as np\n",
    "\n",
    "from tensorflow import keras\n",
    "from tensorflow.keras.layers import Dense, SimpleRNN, Input\n",
    "from tensorflow.keras.models import Sequential\n",
    "from tensorflow.keras.preprocessing.text import Tokenizer, text_to_word_sequence\n",
    "from tensorflow.keras.utils import to_categorical"
   ]
  },
  {
   "cell_type": "code",
   "execution_count": 26,
   "id": "efbb989b",
   "metadata": {},
   "outputs": [],
   "source": [
    "with open('pogovorki.txt', 'r', encoding='utf-8') as f:\n",
    "    texts = f.read()\n",
    "    texts = texts.replace('\\ufeff', '')  # убираем первый невидимый символ"
   ]
  },
  {
   "cell_type": "code",
   "execution_count": 27,
   "id": "c3cb6700",
   "metadata": {},
   "outputs": [],
   "source": [
    "maxWordsCount = 1000\n",
    "tokenizer = Tokenizer(num_words=maxWordsCount, filters='!–\"—#$%&amp;()*+,-./:;<=>?@[\\\\]^_`{|}~\\t\\n\\r«»',\n",
    "                      lower=True, split=' ', char_level=False)\n",
    "tokenizer.fit_on_texts([texts])"
   ]
  },
  {
   "cell_type": "code",
   "execution_count": 28,
   "id": "fda70979",
   "metadata": {},
   "outputs": [
    {
     "name": "stdout",
     "output_type": "stream",
     "text": [
      "[('друзья', 6), ('познаются', 3), ('в', 56), ('беде', 3), ('не', 119), ('имей', 4), ('сто', 4), ('рублей', 2), ('а', 56), ('друзей', 8)]\n"
     ]
    }
   ],
   "source": [
    "dist = list(tokenizer.word_counts.items())\n",
    "print(dist[:10])"
   ]
  },
  {
   "cell_type": "code",
   "execution_count": 29,
   "id": "a7689536",
   "metadata": {},
   "outputs": [
    {
     "name": "stdout",
     "output_type": "stream",
     "text": [
      "(2116, 1000)\n"
     ]
    }
   ],
   "source": [
    "data = tokenizer.texts_to_sequences([texts])\n",
    "res = to_categorical(data[0], num_classes=maxWordsCount)\n",
    "print(res.shape)"
   ]
  },
  {
   "cell_type": "code",
   "execution_count": 30,
   "id": "c31eee3e",
   "metadata": {},
   "outputs": [],
   "source": [
    "inp_words = 3\n",
    "n = res.shape[0] - inp_words\n",
    "\n",
    "X = np.array([res[i:i + inp_words, :] for i in range(n)])\n",
    "Y = res[inp_words:]"
   ]
  },
  {
   "cell_type": "code",
   "execution_count": 38,
   "id": "181ab11f",
   "metadata": {},
   "outputs": [
    {
     "name": "stdout",
     "output_type": "stream",
     "text": [
      "Model: \"sequential_3\"\n",
      "_________________________________________________________________\n",
      " Layer (type)                Output Shape              Param #   \n",
      "=================================================================\n",
      " simple_rnn_3 (SimpleRNN)    (None, 256)               321792    \n",
      "                                                                 \n",
      " dense_3 (Dense)             (None, 1000)              257000    \n",
      "                                                                 \n",
      "=================================================================\n",
      "Total params: 578,792\n",
      "Trainable params: 578,792\n",
      "Non-trainable params: 0\n",
      "_________________________________________________________________\n",
      "Epoch 1/50\n",
      "67/67 [==============================] - 1s 5ms/step - loss: 6.7915 - accuracy: 0.0445\n",
      "Epoch 2/50\n",
      "67/67 [==============================] - 0s 5ms/step - loss: 6.0618 - accuracy: 0.0611\n",
      "Epoch 3/50\n",
      "67/67 [==============================] - 0s 5ms/step - loss: 5.6162 - accuracy: 0.1136\n",
      "Epoch 4/50\n",
      "67/67 [==============================] - 0s 5ms/step - loss: 4.9837 - accuracy: 0.2224\n",
      "Epoch 5/50\n",
      "67/67 [==============================] - 0s 5ms/step - loss: 4.2145 - accuracy: 0.3142\n",
      "Epoch 6/50\n",
      "67/67 [==============================] - 0s 5ms/step - loss: 3.3216 - accuracy: 0.4326\n",
      "Epoch 7/50\n",
      "67/67 [==============================] - 0s 5ms/step - loss: 2.4635 - accuracy: 0.5622\n",
      "Epoch 8/50\n",
      "67/67 [==============================] - 0s 5ms/step - loss: 1.7727 - accuracy: 0.6370\n",
      "Epoch 9/50\n",
      "67/67 [==============================] - 0s 5ms/step - loss: 1.3194 - accuracy: 0.7142\n",
      "Epoch 10/50\n",
      "67/67 [==============================] - 0s 5ms/step - loss: 1.0637 - accuracy: 0.7719\n",
      "Epoch 11/50\n",
      "67/67 [==============================] - 0s 5ms/step - loss: 0.8887 - accuracy: 0.8225\n",
      "Epoch 12/50\n",
      "67/67 [==============================] - 0s 6ms/step - loss: 0.7770 - accuracy: 0.8533\n",
      "Epoch 13/50\n",
      "67/67 [==============================] - 0s 5ms/step - loss: 0.6650 - accuracy: 0.8836\n",
      "Epoch 14/50\n",
      "67/67 [==============================] - 0s 5ms/step - loss: 0.5731 - accuracy: 0.8954\n",
      "Epoch 15/50\n",
      "67/67 [==============================] - 0s 5ms/step - loss: 0.4983 - accuracy: 0.9087\n",
      "Epoch 16/50\n",
      "67/67 [==============================] - 0s 5ms/step - loss: 0.4716 - accuracy: 0.9120\n",
      "Epoch 17/50\n",
      "67/67 [==============================] - 0s 5ms/step - loss: 0.4204 - accuracy: 0.9148\n",
      "Epoch 18/50\n",
      "67/67 [==============================] - 0s 5ms/step - loss: 0.3704 - accuracy: 0.9205\n",
      "Epoch 19/50\n",
      "67/67 [==============================] - 0s 5ms/step - loss: 0.3160 - accuracy: 0.9295\n",
      "Epoch 20/50\n",
      "67/67 [==============================] - 0s 5ms/step - loss: 0.2856 - accuracy: 0.9309\n",
      "Epoch 21/50\n",
      "67/67 [==============================] - 0s 5ms/step - loss: 0.2530 - accuracy: 0.9300\n",
      "Epoch 22/50\n",
      "67/67 [==============================] - 0s 5ms/step - loss: 0.3015 - accuracy: 0.9309\n",
      "Epoch 23/50\n",
      "67/67 [==============================] - 0s 5ms/step - loss: 0.2224 - accuracy: 0.9442\n",
      "Epoch 24/50\n",
      "67/67 [==============================] - 0s 5ms/step - loss: 0.2086 - accuracy: 0.9413\n",
      "Epoch 25/50\n",
      "67/67 [==============================] - 0s 5ms/step - loss: 0.1906 - accuracy: 0.9423\n",
      "Epoch 26/50\n",
      "67/67 [==============================] - 0s 5ms/step - loss: 0.1692 - accuracy: 0.9498\n",
      "Epoch 27/50\n",
      "67/67 [==============================] - 0s 5ms/step - loss: 0.1646 - accuracy: 0.9522\n",
      "Epoch 28/50\n",
      "67/67 [==============================] - 0s 5ms/step - loss: 0.1578 - accuracy: 0.9494\n",
      "Epoch 29/50\n",
      "67/67 [==============================] - 0s 5ms/step - loss: 0.1473 - accuracy: 0.9498\n",
      "Epoch 30/50\n",
      "67/67 [==============================] - 0s 5ms/step - loss: 0.1374 - accuracy: 0.9565\n",
      "Epoch 31/50\n",
      "67/67 [==============================] - 0s 5ms/step - loss: 0.1320 - accuracy: 0.9555\n",
      "Epoch 32/50\n",
      "67/67 [==============================] - 0s 5ms/step - loss: 0.1554 - accuracy: 0.9503\n",
      "Epoch 33/50\n",
      "67/67 [==============================] - 0s 5ms/step - loss: 0.1358 - accuracy: 0.9531\n",
      "Epoch 34/50\n",
      "67/67 [==============================] - 0s 5ms/step - loss: 0.1460 - accuracy: 0.9536\n",
      "Epoch 35/50\n",
      "67/67 [==============================] - 0s 5ms/step - loss: 0.1247 - accuracy: 0.9602\n",
      "Epoch 36/50\n",
      "67/67 [==============================] - 0s 5ms/step - loss: 0.1194 - accuracy: 0.9565\n",
      "Epoch 37/50\n",
      "67/67 [==============================] - 0s 5ms/step - loss: 0.1144 - accuracy: 0.9579\n",
      "Epoch 38/50\n",
      "67/67 [==============================] - 0s 5ms/step - loss: 0.1068 - accuracy: 0.9650\n",
      "Epoch 39/50\n",
      "67/67 [==============================] - 0s 5ms/step - loss: 0.1006 - accuracy: 0.9621\n",
      "Epoch 40/50\n",
      "67/67 [==============================] - 0s 5ms/step - loss: 0.0963 - accuracy: 0.9612\n",
      "Epoch 41/50\n",
      "67/67 [==============================] - 0s 5ms/step - loss: 0.0955 - accuracy: 0.9631\n",
      "Epoch 42/50\n",
      "67/67 [==============================] - 0s 5ms/step - loss: 0.0929 - accuracy: 0.9650\n",
      "Epoch 43/50\n",
      "67/67 [==============================] - 0s 5ms/step - loss: 0.0873 - accuracy: 0.9683\n",
      "Epoch 44/50\n",
      "67/67 [==============================] - 0s 5ms/step - loss: 0.0837 - accuracy: 0.9692\n",
      "Epoch 45/50\n",
      "67/67 [==============================] - 0s 5ms/step - loss: 0.0856 - accuracy: 0.9669\n",
      "Epoch 46/50\n",
      "67/67 [==============================] - 0s 5ms/step - loss: 0.0801 - accuracy: 0.9692\n",
      "Epoch 47/50\n",
      "67/67 [==============================] - 0s 5ms/step - loss: 0.0825 - accuracy: 0.9664\n",
      "Epoch 48/50\n",
      "67/67 [==============================] - 0s 5ms/step - loss: 0.0797 - accuracy: 0.9692\n",
      "Epoch 49/50\n",
      "67/67 [==============================] - 0s 5ms/step - loss: 0.0784 - accuracy: 0.9707\n",
      "Epoch 50/50\n",
      "67/67 [==============================] - 0s 5ms/step - loss: 0.0722 - accuracy: 0.9702\n"
     ]
    }
   ],
   "source": [
    "model = Sequential()\n",
    "model.add(Input((inp_words, maxWordsCount)))\n",
    "model.add(SimpleRNN(256, activation='tanh'))\n",
    "model.add(Dense(maxWordsCount, activation='softmax'))\n",
    "model.summary()\n",
    "\n",
    "model.compile(loss='categorical_crossentropy', metrics=['accuracy'], optimizer='adam')\n",
    "\n",
    "history = model.fit(X, Y, batch_size=32, epochs=50)\n",
    "model.save(\"model_w_256_50.h5\")"
   ]
  },
  {
   "cell_type": "code",
   "execution_count": 41,
   "id": "ef358abc",
   "metadata": {},
   "outputs": [],
   "source": [
    "model = keras.models.load_model(\"model_w_256_50.h5\")"
   ]
  },
  {
   "cell_type": "code",
   "execution_count": 42,
   "id": "5de82f83",
   "metadata": {},
   "outputs": [],
   "source": [
    "def buildPhrase(texts, str_len=20):\n",
    "    res = texts\n",
    "    data = tokenizer.texts_to_sequences([texts])[0]\n",
    "    for i in range(str_len):\n",
    "        x = to_categorical(data[i: i + inp_words], num_classes=maxWordsCount)  # преобразуем в One-Hot-encoding\n",
    "        inp = x.reshape(1, inp_words, maxWordsCount)\n",
    "\n",
    "        pred = model.predict(inp)\n",
    "        indx = pred.argmax(axis=1)[0]\n",
    "        data.append(indx)\n",
    "\n",
    "        res += \" \" + tokenizer.index_word[indx]  # дописываем строку\n",
    "\n",
    "    return res"
   ]
  },
  {
   "cell_type": "code",
   "execution_count": 46,
   "id": "7a10aee6",
   "metadata": {},
   "outputs": [
    {
     "ename": "ValueError",
     "evalue": "cannot reshape array of size 2000 into shape (1,3,1000)",
     "output_type": "error",
     "traceback": [
      "\u001b[1;31m---------------------------------------------------------------------------\u001b[0m",
      "\u001b[1;31mValueError\u001b[0m                                Traceback (most recent call last)",
      "Cell \u001b[1;32mIn [46], line 1\u001b[0m\n\u001b[1;32m----> 1\u001b[0m res \u001b[38;5;241m=\u001b[39m \u001b[43mbuildPhrase\u001b[49m\u001b[43m(\u001b[49m\u001b[38;5;124;43m\"\u001b[39;49m\u001b[38;5;124;43mмарт цыплят считает\u001b[39;49m\u001b[38;5;124;43m\"\u001b[39;49m\u001b[43m)\u001b[49m\n\u001b[0;32m      2\u001b[0m \u001b[38;5;28mprint\u001b[39m(res)\n",
      "Cell \u001b[1;32mIn [42], line 6\u001b[0m, in \u001b[0;36mbuildPhrase\u001b[1;34m(texts, str_len)\u001b[0m\n\u001b[0;32m      4\u001b[0m \u001b[38;5;28;01mfor\u001b[39;00m i \u001b[38;5;129;01min\u001b[39;00m \u001b[38;5;28mrange\u001b[39m(str_len):\n\u001b[0;32m      5\u001b[0m     x \u001b[38;5;241m=\u001b[39m to_categorical(data[i: i \u001b[38;5;241m+\u001b[39m inp_words], num_classes\u001b[38;5;241m=\u001b[39mmaxWordsCount)  \u001b[38;5;66;03m# преобразуем в One-Hot-encoding\u001b[39;00m\n\u001b[1;32m----> 6\u001b[0m     inp \u001b[38;5;241m=\u001b[39m \u001b[43mx\u001b[49m\u001b[38;5;241;43m.\u001b[39;49m\u001b[43mreshape\u001b[49m\u001b[43m(\u001b[49m\u001b[38;5;241;43m1\u001b[39;49m\u001b[43m,\u001b[49m\u001b[43m \u001b[49m\u001b[43minp_words\u001b[49m\u001b[43m,\u001b[49m\u001b[43m \u001b[49m\u001b[43mmaxWordsCount\u001b[49m\u001b[43m)\u001b[49m\n\u001b[0;32m      8\u001b[0m     pred \u001b[38;5;241m=\u001b[39m model\u001b[38;5;241m.\u001b[39mpredict(inp)\n\u001b[0;32m      9\u001b[0m     indx \u001b[38;5;241m=\u001b[39m pred\u001b[38;5;241m.\u001b[39margmax(axis\u001b[38;5;241m=\u001b[39m\u001b[38;5;241m1\u001b[39m)[\u001b[38;5;241m0\u001b[39m]\n",
      "\u001b[1;31mValueError\u001b[0m: cannot reshape array of size 2000 into shape (1,3,1000)"
     ]
    }
   ],
   "source": [
    "res = buildPhrase(\"март цыплят считает\")\n",
    "print(res)"
   ]
  },
  {
   "cell_type": "code",
   "execution_count": 23,
   "id": "ff1522f4",
   "metadata": {},
   "outputs": [
    {
     "name": "stdout",
     "output_type": "stream",
     "text": [
      "1/1 [==============================] - 0s 114ms/step\n",
      "1/1 [==============================] - 0s 31ms/step\n",
      "1/1 [==============================] - 0s 28ms/step\n",
      "1/1 [==============================] - 0s 24ms/step\n",
      "1/1 [==============================] - 0s 18ms/step\n",
      "1/1 [==============================] - 0s 18ms/step\n",
      "1/1 [==============================] - 0s 17ms/step\n",
      "1/1 [==============================] - 0s 31ms/step\n",
      "1/1 [==============================] - 0s 26ms/step\n",
      "1/1 [==============================] - 0s 18ms/step\n",
      "1/1 [==============================] - 0s 19ms/step\n",
      "1/1 [==============================] - 0s 18ms/step\n",
      "1/1 [==============================] - 0s 28ms/step\n",
      "1/1 [==============================] - 0s 23ms/step\n",
      "1/1 [==============================] - 0s 20ms/step\n",
      "1/1 [==============================] - 0s 18ms/step\n",
      "1/1 [==============================] - 0s 19ms/step\n",
      "1/1 [==============================] - 0s 29ms/step\n",
      "1/1 [==============================] - 0s 26ms/step\n",
      "1/1 [==============================] - 0s 20ms/step\n",
      "позитив добавляет годы счастье вашей жизни и двигаться приверженным в вы это в не вы за я и о с все хорошим не\n"
     ]
    }
   ],
   "source": [
    "res = buildPhrase(\"позитив добавляет годы\")\n",
    "print(res)"
   ]
  },
  {
   "cell_type": "code",
   "execution_count": 25,
   "id": "f9b03e8d",
   "metadata": {},
   "outputs": [],
   "source": [
    "model.save(\"model_words_text.h5\")"
   ]
  },
  {
   "cell_type": "code",
   "execution_count": 34,
   "id": "8294946e",
   "metadata": {},
   "outputs": [],
   "source": [
    "model.save(\"model_w_128_50.h5\")"
   ]
  },
  {
   "cell_type": "code",
   "execution_count": null,
   "id": "43e13aa1",
   "metadata": {},
   "outputs": [],
   "source": []
  }
 ],
 "metadata": {
  "kernelspec": {
   "display_name": "Python 3 (ipykernel)",
   "language": "python",
   "name": "python3"
  },
  "language_info": {
   "codemirror_mode": {
    "name": "ipython",
    "version": 3
   },
   "file_extension": ".py",
   "mimetype": "text/x-python",
   "name": "python",
   "nbconvert_exporter": "python",
   "pygments_lexer": "ipython3",
   "version": "3.10.8"
  }
 },
 "nbformat": 4,
 "nbformat_minor": 5
}
